{
  "nbformat": 4,
  "nbformat_minor": 0,
  "metadata": {
    "colab": {
      "name": "tagger.ipynb",
      "provenance": [],
      "collapsed_sections": [],
      "include_colab_link": true
    },
    "kernelspec": {
      "name": "python3",
      "display_name": "Python 3"
    }
  },
  "cells": [
    {
      "cell_type": "markdown",
      "metadata": {
        "id": "view-in-github",
        "colab_type": "text"
      },
      "source": [
        "<a href=\"https://colab.research.google.com/github/Bambaribam/class2021Spring/blob/main/tagger.ipynb\" target=\"_parent\"><img src=\"https://colab.research.google.com/assets/colab-badge.svg\" alt=\"Open In Colab\"/></a>"
      ]
    },
    {
      "cell_type": "code",
      "metadata": {
        "id": "O65UpjLmRxJR",
        "colab": {
          "base_uri": "https://localhost:8080/"
        },
        "outputId": "0a263a1d-9980-4ed9-f522-3b8f5d06cc48"
      },
      "source": [
        "!pip install konlpy"
      ],
      "execution_count": 1,
      "outputs": [
        {
          "output_type": "stream",
          "text": [
            "Collecting konlpy\n",
            "\u001b[?25l  Downloading https://files.pythonhosted.org/packages/85/0e/f385566fec837c0b83f216b2da65db9997b35dd675e107752005b7d392b1/konlpy-0.5.2-py2.py3-none-any.whl (19.4MB)\n",
            "\u001b[K     |████████████████████████████████| 19.4MB 1.2MB/s \n",
            "\u001b[?25hCollecting colorama\n",
            "  Downloading https://files.pythonhosted.org/packages/44/98/5b86278fbbf250d239ae0ecb724f8572af1c91f4a11edf4d36a206189440/colorama-0.4.4-py2.py3-none-any.whl\n",
            "Requirement already satisfied: lxml>=4.1.0 in /usr/local/lib/python3.7/dist-packages (from konlpy) (4.2.6)\n",
            "Collecting JPype1>=0.7.0\n",
            "\u001b[?25l  Downloading https://files.pythonhosted.org/packages/cd/a5/9781e2ef4ca92d09912c4794642c1653aea7607f473e156cf4d423a881a1/JPype1-1.2.1-cp37-cp37m-manylinux2010_x86_64.whl (457kB)\n",
            "\u001b[K     |████████████████████████████████| 460kB 46.9MB/s \n",
            "\u001b[?25hRequirement already satisfied: numpy>=1.6 in /usr/local/lib/python3.7/dist-packages (from konlpy) (1.19.5)\n",
            "Requirement already satisfied: tweepy>=3.7.0 in /usr/local/lib/python3.7/dist-packages (from konlpy) (3.10.0)\n",
            "Collecting beautifulsoup4==4.6.0\n",
            "\u001b[?25l  Downloading https://files.pythonhosted.org/packages/9e/d4/10f46e5cfac773e22707237bfcd51bbffeaf0a576b0a847ec7ab15bd7ace/beautifulsoup4-4.6.0-py3-none-any.whl (86kB)\n",
            "\u001b[K     |████████████████████████████████| 92kB 7.5MB/s \n",
            "\u001b[?25hRequirement already satisfied: typing-extensions; python_version < \"3.8\" in /usr/local/lib/python3.7/dist-packages (from JPype1>=0.7.0->konlpy) (3.7.4.3)\n",
            "Requirement already satisfied: requests[socks]>=2.11.1 in /usr/local/lib/python3.7/dist-packages (from tweepy>=3.7.0->konlpy) (2.23.0)\n",
            "Requirement already satisfied: requests-oauthlib>=0.7.0 in /usr/local/lib/python3.7/dist-packages (from tweepy>=3.7.0->konlpy) (1.3.0)\n",
            "Requirement already satisfied: six>=1.10.0 in /usr/local/lib/python3.7/dist-packages (from tweepy>=3.7.0->konlpy) (1.15.0)\n",
            "Requirement already satisfied: certifi>=2017.4.17 in /usr/local/lib/python3.7/dist-packages (from requests[socks]>=2.11.1->tweepy>=3.7.0->konlpy) (2020.12.5)\n",
            "Requirement already satisfied: urllib3!=1.25.0,!=1.25.1,<1.26,>=1.21.1 in /usr/local/lib/python3.7/dist-packages (from requests[socks]>=2.11.1->tweepy>=3.7.0->konlpy) (1.24.3)\n",
            "Requirement already satisfied: idna<3,>=2.5 in /usr/local/lib/python3.7/dist-packages (from requests[socks]>=2.11.1->tweepy>=3.7.0->konlpy) (2.10)\n",
            "Requirement already satisfied: chardet<4,>=3.0.2 in /usr/local/lib/python3.7/dist-packages (from requests[socks]>=2.11.1->tweepy>=3.7.0->konlpy) (3.0.4)\n",
            "Requirement already satisfied: PySocks!=1.5.7,>=1.5.6; extra == \"socks\" in /usr/local/lib/python3.7/dist-packages (from requests[socks]>=2.11.1->tweepy>=3.7.0->konlpy) (1.7.1)\n",
            "Requirement already satisfied: oauthlib>=3.0.0 in /usr/local/lib/python3.7/dist-packages (from requests-oauthlib>=0.7.0->tweepy>=3.7.0->konlpy) (3.1.0)\n",
            "Installing collected packages: colorama, JPype1, beautifulsoup4, konlpy\n",
            "  Found existing installation: beautifulsoup4 4.6.3\n",
            "    Uninstalling beautifulsoup4-4.6.3:\n",
            "      Successfully uninstalled beautifulsoup4-4.6.3\n",
            "Successfully installed JPype1-1.2.1 beautifulsoup4-4.6.0 colorama-0.4.4 konlpy-0.5.2\n"
          ],
          "name": "stdout"
        }
      ]
    },
    {
      "cell_type": "code",
      "metadata": {
        "id": "p9tPcf7ByV3h"
      },
      "source": [
        "import nltk\n",
        "import konlpy #한국어 자연어 처리를 위한 파이썬 라이브러리"
      ],
      "execution_count": 2,
      "outputs": []
    },
    {
      "cell_type": "code",
      "metadata": {
        "id": "vbiy10WLRi7j",
        "colab": {
          "base_uri": "https://localhost:8080/"
        },
        "outputId": "c3434ce1-9b75-4b95-c487-6c96dae54944"
      },
      "source": [
        "nltk.download('punkt')\n",
        "nltk.download('averaged_perceptron_tagger')"
      ],
      "execution_count": 3,
      "outputs": [
        {
          "output_type": "stream",
          "text": [
            "[nltk_data] Downloading package punkt to /root/nltk_data...\n",
            "[nltk_data]   Unzipping tokenizers/punkt.zip.\n",
            "[nltk_data] Downloading package averaged_perceptron_tagger to\n",
            "[nltk_data]     /root/nltk_data...\n",
            "[nltk_data]   Unzipping taggers/averaged_perceptron_tagger.zip.\n"
          ],
          "name": "stdout"
        },
        {
          "output_type": "execute_result",
          "data": {
            "text/plain": [
              "True"
            ]
          },
          "metadata": {
            "tags": []
          },
          "execution_count": 3
        }
      ]
    },
    {
      "cell_type": "code",
      "metadata": {
        "id": "5RnsiE-7Tvjl",
        "colab": {
          "base_uri": "https://localhost:8080/"
        },
        "outputId": "19fb8f25-b47d-4f66-f875-f488abc8332e"
      },
      "source": [
        "sentence = \"what a wonderful world!\"\n",
        "tokenized = nltk.word_tokenize(sentence)\n",
        "print(tokenized)\n",
        "print(nltk.pos_tag(tokenized))"
      ],
      "execution_count": 5,
      "outputs": [
        {
          "output_type": "stream",
          "text": [
            "['what', 'a', 'wonderful', 'world', '!']\n",
            "[('what', 'WP'), ('a', 'DT'), ('wonderful', 'JJ'), ('world', 'NN'), ('!', '.')]\n"
          ],
          "name": "stdout"
        }
      ]
    },
    {
      "cell_type": "code",
      "metadata": {
        "id": "_Kdto38uSgLn"
      },
      "source": [
        "from konlpy.tag import Hannanum\n",
        "tagger = Hannanum()"
      ],
      "execution_count": 12,
      "outputs": []
    },
    {
      "cell_type": "code",
      "metadata": {
        "id": "Yf1GpaPlTxjo",
        "colab": {
          "base_uri": "https://localhost:8080/"
        },
        "outputId": "4d5ada5b-ad91-4eb4-f949-0c4bbc16c341"
      },
      "source": [
        "sentence = \"인생은 축제다.\"\n",
        "print(tagger.morphs(sentence))\n",
        "print(tagger.pos(sentence))"
      ],
      "execution_count": 13,
      "outputs": [
        {
          "output_type": "stream",
          "text": [
            "['인생', '은', '축제', '이', '다', '.']\n",
            "[('인생', 'N'), ('은', 'J'), ('축제', 'N'), ('이', 'J'), ('다', 'E'), ('.', 'S')]\n"
          ],
          "name": "stdout"
        }
      ]
    },
    {
      "cell_type": "code",
      "metadata": {
        "id": "AUP1m3llUD5k"
      },
      "source": [
        "def read_data(filename):\n",
        "    with open(filename, 'r') as f:\n",
        "        data = f.readlines()\n",
        "    return data\n",
        "\n",
        "eng = read_data('eng.txt')\n",
        "kor = read_data('kor.txt')"
      ],
      "execution_count": 14,
      "outputs": []
    },
    {
      "cell_type": "code",
      "metadata": {
        "id": "jxLf5_iLUinS",
        "colab": {
          "base_uri": "https://localhost:8080/"
        },
        "outputId": "973b10b0-6d34-4248-f2de-0b45c6c6aad4"
      },
      "source": [
        "for s in eng: print(nltk.pos_tag(nltk.word_tokenize(s.strip()))) #동사들이 명사구가 되버림, 형태소 분석이 잘 안됨"
      ],
      "execution_count": 15,
      "outputs": [
        {
          "output_type": "stream",
          "text": [
            "[('Come', 'NNP'), ('gather', 'NN'), (\"'round\", 'NN'), (',', ','), ('people', 'NNS')]\n",
            "[('Wherever', 'IN'), ('you', 'PRP'), ('roam', 'VBP')]\n",
            "[('And', 'CC'), ('admit', 'NN'), ('that', 'IN'), ('the', 'DT'), ('waters', 'NNS')]\n",
            "[('Around', 'IN'), ('you', 'PRP'), ('have', 'VBP'), ('grown', 'VBN')]\n",
            "[('And', 'CC'), ('accept', 'VB'), ('it', 'PRP'), ('that', 'WDT'), ('soon', 'RB')]\n",
            "[('You', 'PRP'), (\"'ll\", 'MD'), ('be', 'VB'), ('drenched', 'VBN'), ('to', 'TO'), ('the', 'DT'), ('bone', 'NN')]\n",
            "[('If', 'IN'), ('your', 'PRP$'), ('time', 'NN'), ('to', 'TO'), ('you', 'PRP'), ('is', 'VBZ'), ('worth', 'JJ'), ('savin', 'NN'), (\"'\", \"''\")]\n",
            "[('And', 'CC'), ('you', 'PRP'), ('better', 'JJR'), ('start', 'VB'), ('swimmin', 'NN'), (\"'\", \"''\")]\n",
            "[('Or', 'CC'), ('you', 'PRP'), (\"'ll\", 'MD'), ('sink', 'VB'), ('like', 'IN'), ('a', 'DT'), ('stone', 'NN')]\n",
            "[('For', 'IN'), ('the', 'DT'), ('times', 'NNS'), ('they', 'PRP'), ('are', 'VBP'), ('a-changin', 'JJ'), (\"'\", \"''\")]\n",
            "[('Come', 'NNP'), ('writers', 'NNS'), ('and', 'CC'), ('critics', 'NNS')]\n",
            "[('Who', 'WP'), ('prophesize', 'VBP'), ('with', 'IN'), ('your', 'PRP$'), ('pen', 'NN')]\n",
            "[('And', 'CC'), ('keep', 'VB'), ('your', 'PRP$'), ('eyes', 'NNS'), ('wide', 'JJ')]\n",
            "[('The', 'DT'), ('chance', 'NN'), ('wo', 'MD'), (\"n't\", 'RB'), ('come', 'VB'), ('again', 'RB')]\n",
            "[('And', 'CC'), ('do', 'VBP'), (\"n't\", 'RB'), ('speak', 'VB'), ('too', 'RB'), ('soon', 'RB')]\n",
            "[('For', 'IN'), ('the', 'DT'), ('wheel', 'NN'), (\"'s\", 'POS'), ('still', 'RB'), ('in', 'IN'), ('spin', 'NN')]\n",
            "[('And', 'CC'), ('there', 'EX'), (\"'s\", 'VBZ'), ('no', 'DT'), ('tellin', 'NN'), (\"'\", \"''\"), ('who', 'WP')]\n",
            "[('That', 'IN'), ('it', 'PRP'), (\"'s\", 'VBZ'), ('namin', 'JJ'), (\"'\", \"''\")]\n",
            "[('For', 'IN'), ('the', 'DT'), ('loser', 'NN'), ('now', 'RB')]\n",
            "[('Will', 'MD'), ('be', 'VB'), ('later', 'RB'), ('to', 'TO'), ('win', 'VB')]\n",
            "[('For', 'IN'), ('the', 'DT'), ('times', 'NNS'), ('they', 'PRP'), ('are', 'VBP'), ('a-changin', 'JJ'), (\"'\", \"''\")]\n",
            "[('Come', 'NNP'), ('senators', 'NNS'), (',', ','), ('congressmen', 'NNS')]\n",
            "[('Please', 'NNP'), ('heed', 'VBD'), ('the', 'DT'), ('call', 'NN')]\n",
            "[('Do', 'VBP'), (\"n't\", 'RB'), ('stand', 'VB'), ('in', 'IN'), ('the', 'DT'), ('doorway', 'NN')]\n",
            "[('Do', 'VBP'), (\"n't\", 'RB'), ('block', 'VB'), ('up', 'RP'), ('the', 'DT'), ('hall', 'NN')]\n",
            "[('For', 'IN'), ('he', 'PRP'), ('that', 'WDT'), ('gets', 'VBZ'), ('hurt', 'JJR')]\n",
            "[('Will', 'MD'), ('be', 'VB'), ('he', 'PRP'), ('who', 'WP'), ('has', 'VBZ'), ('stalled', 'VBN')]\n",
            "[('The', 'DT'), ('battle', 'NN'), ('outside', 'IN'), ('ragin', 'NN'), (\"'\", \"''\")]\n",
            "[('Will', 'MD'), ('soon', 'RB'), ('shake', 'VB'), ('your', 'PRP$'), ('windows', 'NNS')]\n",
            "[('And', 'CC'), ('rattle', 'VB'), ('your', 'PRP$'), ('walls', 'NNS')]\n",
            "[('For', 'IN'), ('the', 'DT'), ('times', 'NNS'), ('they', 'PRP'), ('are', 'VBP'), ('a-changin', 'JJ'), (\"'\", \"''\")]\n",
            "[('Come', 'NNP'), ('mothers', 'NNS'), ('and', 'CC'), ('fathers', 'NNS')]\n",
            "[('Throughout', 'IN'), ('the', 'DT'), ('land', 'NN')]\n",
            "[('And', 'CC'), ('do', 'VBP'), (\"n't\", 'RB'), ('criticize', 'VB')]\n",
            "[('What', 'WP'), ('you', 'PRP'), ('ca', 'MD'), (\"n't\", 'RB'), ('understand', 'VB')]\n",
            "[('Your', 'PRP$'), ('sons', 'NNS'), ('and', 'CC'), ('your', 'PRP$'), ('daughters', 'NNS')]\n",
            "[('Are', 'NNP'), ('beyond', 'IN'), ('your', 'PRP$'), ('command', 'NN')]\n",
            "[('Your', 'PRP$'), ('old', 'JJ'), ('road', 'NN'), ('is', 'VBZ'), ('rapidly', 'RB'), ('agin', 'JJ'), (\"'\", \"''\")]\n",
            "[('Please', 'VB'), ('get', 'VB'), ('out', 'IN'), ('of', 'IN'), ('the', 'DT'), ('new', 'JJ'), ('one', 'NN')]\n",
            "[('If', 'IN'), ('you', 'PRP'), ('ca', 'MD'), (\"n't\", 'RB'), ('lend', 'VB'), ('your', 'PRP$'), ('hand', 'NN')]\n",
            "[('For', 'IN'), ('the', 'DT'), ('times', 'NNS'), ('they', 'PRP'), ('are', 'VBP'), ('a-changin', 'JJ'), (\"'\", \"''\")]\n",
            "[('The', 'DT'), ('line', 'NN'), ('it', 'PRP'), ('is', 'VBZ'), ('drawn', 'VBN')]\n",
            "[('The', 'DT'), ('curse', 'NN'), ('it', 'PRP'), ('is', 'VBZ'), ('cast', 'JJ')]\n",
            "[('The', 'DT'), ('slow', 'JJ'), ('one', 'CD'), ('now', 'RB')]\n",
            "[('Will', 'MD'), ('later', 'RB'), ('be', 'VB'), ('fast', 'RB')]\n",
            "[('As', 'IN'), ('the', 'DT'), ('present', 'JJ'), ('now', 'RB')]\n",
            "[('Will', 'MD'), ('later', 'RB'), ('be', 'VB'), ('past', 'JJ')]\n",
            "[('The', 'DT'), ('order', 'NN'), ('is', 'VBZ'), ('rapidly', 'RB'), ('fadin', 'JJ'), (\"'\", \"''\")]\n",
            "[('And', 'CC'), ('the', 'DT'), ('first', 'JJ'), ('one', 'CD'), ('now', 'RB')]\n",
            "[('Will', 'MD'), ('later', 'RB'), ('be', 'VB'), ('last', 'JJ')]\n",
            "[('For', 'IN'), ('the', 'DT'), ('times', 'NNS'), ('they', 'PRP'), ('are', 'VBP'), ('a-changin', 'JJ'), (\"'\", \"''\")]\n"
          ],
          "name": "stdout"
        }
      ]
    },
    {
      "cell_type": "code",
      "metadata": {
        "id": "in4uKc4_V3Y1",
        "colab": {
          "base_uri": "https://localhost:8080/"
        },
        "outputId": "6edaef7a-b216-492e-b791-30c61799cca8"
      },
      "source": [
        "for s in kor: print(tagger.pos(s)) #J는 조사 #은 분석은 맞는데 이다 분석 잘못됨"
      ],
      "execution_count": 16,
      "outputs": [
        {
          "output_type": "stream",
          "text": [
            "[('인생', 'N'), ('은', 'J'), ('축제', 'N'), ('이', 'J'), ('다', 'E'), ('.', 'S')]\n",
            "[('즐겁', 'P'), ('게', 'E'), ('살', 'P'), ('지', 'E'), ('않', 'P'), ('는', 'E'), ('것', 'N'), ('은', 'J'), ('죄', 'N'), ('이', 'J'), ('다', 'E'), ('.', 'S')]\n",
            "[('나', 'N'), ('를', 'J'), ('괴롭히', 'P'), ('는', 'E'), ('사람들', 'N'), ('에게', 'J'), ('최고', 'N'), ('의', 'J'), ('복수', 'N'), ('는', 'J'), ('그들', 'N'), ('보다', 'J'), ('즐겁', 'P'), ('게', 'E'), ('사', 'P'), ('는', 'E'), ('것', 'N'), ('이', 'J'), ('다', 'E'), ('.', 'S')]\n",
            "[('그', 'N'), ('들', 'X'), ('의', 'J'), ('귀', 'N'), ('에', 'J'), ('나', 'N'), ('의', 'J'), ('즐겁', 'P'), ('은', 'E'), ('웃음소리', 'N'), ('를', 'J'), ('들리', 'P'), ('어', 'E'), ('주', 'P'), ('는', 'E'), ('것', 'N'), ('이', 'J'), ('다', 'E'), ('.', 'S')]\n",
            "[('무라카미', 'N'), ('류', 'N'), ('69', 'N')]\n"
          ],
          "name": "stdout"
        }
      ]
    }
  ]
}