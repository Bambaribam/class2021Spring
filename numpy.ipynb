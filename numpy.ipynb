{
  "nbformat": 4,
  "nbformat_minor": 0,
  "metadata": {
    "colab": {
      "name": "Untitled7.ipynb",
      "provenance": [],
      "authorship_tag": "ABX9TyNi1dFSEeA2dRvRTr4b6ZYC",
      "include_colab_link": true
    },
    "kernelspec": {
      "name": "python3",
      "display_name": "Python 3"
    },
    "language_info": {
      "name": "python"
    }
  },
  "cells": [
    {
      "cell_type": "markdown",
      "metadata": {
        "id": "view-in-github",
        "colab_type": "text"
      },
      "source": [
        "<a href=\"https://colab.research.google.com/github/Bambaribam/class2021Spring/blob/main/numpy.ipynb\" target=\"_parent\"><img src=\"https://colab.research.google.com/assets/colab-badge.svg\" alt=\"Open In Colab\"/></a>"
      ]
    },
    {
      "cell_type": "code",
      "metadata": {
        "id": "XjZGdS69nWWY"
      },
      "source": [
        "import numpy as np\n",
        "import matplotlib.pyplot as plt #필기 참고"
      ],
      "execution_count": 1,
      "outputs": []
    },
    {
      "cell_type": "code",
      "metadata": {
        "colab": {
          "base_uri": "https://localhost:8080/"
        },
        "id": "CRo3uck0ndCP",
        "outputId": "513211de-41e9-4aec-83d7-bfcc930ae1ba"
      },
      "source": [
        "np.empty([2,3], dtype='int') #[2,3]의 행렬 #datatype이 int"
      ],
      "execution_count": 2,
      "outputs": [
        {
          "output_type": "execute_result",
          "data": {
            "text/plain": [
              "array([[94045685260480,              0,              0],\n",
              "       [             0,              0,              0]])"
            ]
          },
          "metadata": {
            "tags": []
          },
          "execution_count": 2
        }
      ]
    },
    {
      "cell_type": "code",
      "metadata": {
        "colab": {
          "base_uri": "https://localhost:8080/"
        },
        "id": "DFN7vXglnffe",
        "outputId": "d7dbe510-868c-483c-b967-b5f95721208c"
      },
      "source": [
        "np.zeros([2,3]) #행렬 만들기 #계산 훨씬 편함"
      ],
      "execution_count": 5,
      "outputs": [
        {
          "output_type": "execute_result",
          "data": {
            "text/plain": [
              "array([[0., 0., 0.],\n",
              "       [0., 0., 0.]])"
            ]
          },
          "metadata": {
            "tags": []
          },
          "execution_count": 5
        }
      ]
    },
    {
      "cell_type": "markdown",
      "metadata": {
        "id": "ath6VIP7nggB"
      },
      "source": [
        "#numpy,sin() ㅎ호혹ㅇ으은 #np, sin()\n",
        "ㄱ그글그래랫래서 npㄹ로 ㅈ저정ㅇ으의\n",
        "np, empty"
      ]
    },
    {
      "cell_type": "code",
      "metadata": {
        "colab": {
          "base_uri": "https://localhost:8080/"
        },
        "id": "6lfAP25SoXcP",
        "outputId": "ba6ed293-7588-4855-cd81-89e570a18109"
      },
      "source": [
        "np.arange(0,10,2, dtype='float64') #0~9 increment 2 #float-> ."
      ],
      "execution_count": 6,
      "outputs": [
        {
          "output_type": "execute_result",
          "data": {
            "text/plain": [
              "array([0., 2., 4., 6., 8.])"
            ]
          },
          "metadata": {
            "tags": []
          },
          "execution_count": 6
        }
      ]
    },
    {
      "cell_type": "code",
      "metadata": {
        "colab": {
          "base_uri": "https://localhost:8080/"
        },
        "id": "OV_vugToob3H",
        "outputId": "d6188fe1-5368-41b8-963b-6cb05936325c"
      },
      "source": [
        "np.linspace(0,10,6, dtype=float) #important #6개 #0~10 #vector"
      ],
      "execution_count": 7,
      "outputs": [
        {
          "output_type": "execute_result",
          "data": {
            "text/plain": [
              "array([ 0.,  2.,  4.,  6.,  8., 10.])"
            ]
          },
          "metadata": {
            "tags": []
          },
          "execution_count": 7
        }
      ]
    },
    {
      "cell_type": "markdown",
      "metadata": {
        "id": "x1pqos91rS_x"
      },
      "source": [
        "arange, linspace는 vector 만들수 있음"
      ]
    },
    {
      "cell_type": "code",
      "metadata": {
        "colab": {
          "base_uri": "https://localhost:8080/"
        },
        "id": "AXQVcZzyow44",
        "outputId": "758c6094-8158-413d-dc54-d3f60dcacea9"
      },
      "source": [
        "X = np.array([[1,2,3],[4,5,6]]) #vector #행렬 #2x3 #(1,2,3)이 first row\n",
        "X #Xㅇ에 ㅎ하할ㄷ다당"
      ],
      "execution_count": 4,
      "outputs": [
        {
          "output_type": "execute_result",
          "data": {
            "text/plain": [
              "array([[1, 2, 3],\n",
              "       [4, 5, 6]])"
            ]
          },
          "metadata": {
            "tags": []
          },
          "execution_count": 4
        }
      ]
    },
    {
      "cell_type": "code",
      "metadata": {
        "colab": {
          "base_uri": "https://localhost:8080/"
        },
        "id": "khif4selpEJx",
        "outputId": "a63e5ba8-a489-4649-ffc8-89e9d4362f05"
      },
      "source": [
        "X.astype(np.float64) #X는 class #X type 바꿈"
      ],
      "execution_count": 9,
      "outputs": [
        {
          "output_type": "execute_result",
          "data": {
            "text/plain": [
              "array([[1., 2., 3.],\n",
              "       [4., 5., 6.]])"
            ]
          },
          "metadata": {
            "tags": []
          },
          "execution_count": 9
        }
      ]
    },
    {
      "cell_type": "code",
      "metadata": {
        "colab": {
          "base_uri": "https://localhost:8080/"
        },
        "id": "1CcLYqt4pIsv",
        "outputId": "e77d2cfe-f7d8-4ba1-894b-0968309f48a2"
      },
      "source": [
        "np.zeros_like(X) #모두 0으로 대체"
      ],
      "execution_count": 8,
      "outputs": [
        {
          "output_type": "execute_result",
          "data": {
            "text/plain": [
              "array([[0, 0, 0],\n",
              "       [0, 0, 0]])"
            ]
          },
          "metadata": {
            "tags": []
          },
          "execution_count": 8
        }
      ]
    },
    {
      "cell_type": "code",
      "metadata": {
        "id": "xNenp6pBsv9k"
      },
      "source": [
        "np.random.normal(0, 1, 100) #std 1인 100개 숫자"
      ],
      "execution_count": null,
      "outputs": []
    },
    {
      "cell_type": "code",
      "metadata": {
        "colab": {
          "base_uri": "https://localhost:8080/",
          "height": 301
        },
        "id": "bg5EYgJKpKtD",
        "outputId": "66ba0f6f-0194-414d-f34b-cc8f4a7d571e"
      },
      "source": [
        "data = np.random.normal(0,1, 10000) #np안 random안 normal #vector 매번 random한 값 #100보다 숫자커지면 normal distribution 가까워짐\n",
        "print(data)\n",
        "plt.hist(data, bins=20) #histogram #bin -> graph 폭 줄어듦 막대 갯수\n",
        "plt.show()"
      ],
      "execution_count": 11,
      "outputs": [
        {
          "output_type": "stream",
          "text": [
            "[ 2.09313697 -0.89024662 -0.13487135 ...  0.23889098 -0.13117108\n",
            "  0.13643823]\n"
          ],
          "name": "stdout"
        },
        {
          "output_type": "display_data",
          "data": {
            "image/png": "[encoded data removed]",
            "text/plain": [
              "<Figure size 432x288 with 1 Axes>"
            ]
          },
          "metadata": {
            "tags": [],
            "needs_background": "light"
          }
        }
      ]
    },
    {
      "cell_type": "code",
      "metadata": {
        "colab": {
          "base_uri": "https://localhost:8080/"
        },
        "id": "Dhi2GKkppK6E",
        "outputId": "2a5f10a5-6f9c-4507-b3c3-d827ec2a508f"
      },
      "source": [
        "X = np.ones([2, 3, 4]) #1로 #3차원 행렬 #tensor\n",
        "X"
      ],
      "execution_count": 12,
      "outputs": [
        {
          "output_type": "execute_result",
          "data": {
            "text/plain": [
              "array([[[1., 1., 1., 1.],\n",
              "        [1., 1., 1., 1.],\n",
              "        [1., 1., 1., 1.]],\n",
              "\n",
              "       [[1., 1., 1., 1.],\n",
              "        [1., 1., 1., 1.],\n",
              "        [1., 1., 1., 1.]]])"
            ]
          },
          "metadata": {
            "tags": []
          },
          "execution_count": 12
        }
      ]
    },
    {
      "cell_type": "code",
      "metadata": {
        "colab": {
          "base_uri": "https://localhost:8080/"
        },
        "id": "swR30pCXp7CO",
        "outputId": "7cbb5291-e032-4af9-ca14-67ca8556bf60"
      },
      "source": [
        "Y = X.reshape(-1, 3, 2) #2x3x4 -> 6x4x1 #why -1? #-1 해도 알아서 24개가 되도록 채워줌 #tensor\n",
        "Y"
      ],
      "execution_count": 13,
      "outputs": [
        {
          "output_type": "execute_result",
          "data": {
            "text/plain": [
              "array([[[1., 1.],\n",
              "        [1., 1.],\n",
              "        [1., 1.]],\n",
              "\n",
              "       [[1., 1.],\n",
              "        [1., 1.],\n",
              "        [1., 1.]],\n",
              "\n",
              "       [[1., 1.],\n",
              "        [1., 1.],\n",
              "        [1., 1.]],\n",
              "\n",
              "       [[1., 1.],\n",
              "        [1., 1.],\n",
              "        [1., 1.]]])"
            ]
          },
          "metadata": {
            "tags": []
          },
          "execution_count": 13
        }
      ]
    },
    {
      "cell_type": "code",
      "metadata": {
        "colab": {
          "base_uri": "https://localhost:8080/"
        },
        "id": "s6DbSwaVqAFT",
        "outputId": "bff22ede-96f3-429f-fad6-c45131c665f4"
      },
      "source": [
        "np.allclose(X.reshape(-1, 3, 2), Y)"
      ],
      "execution_count": 14,
      "outputs": [
        {
          "output_type": "execute_result",
          "data": {
            "text/plain": [
              "True"
            ]
          },
          "metadata": {
            "tags": []
          },
          "execution_count": 14
        }
      ]
    },
    {
      "cell_type": "code",
      "metadata": {
        "id": "lVLYeIMoqDnb"
      },
      "source": [
        "assert np.allclose(X.reshape(-1, 3, 2), Y)"
      ],
      "execution_count": 15,
      "outputs": []
    },
    {
      "cell_type": "code",
      "metadata": {
        "id": "pwu8bXxXqHpf"
      },
      "source": [
        "a = np.random.randint(0, 10, [2, 3])\n",
        "b = np.random.random([2, 3])\n",
        "np.savez(\"test\", a, b)"
      ],
      "execution_count": 16,
      "outputs": []
    },
    {
      "cell_type": "code",
      "metadata": {
        "id": "eHX92gKqsmV3"
      },
      "source": [
        "!ls -al test*"
      ],
      "execution_count": null,
      "outputs": []
    },
    {
      "cell_type": "code",
      "metadata": {
        "id": "k96XSb-ztuaX"
      },
      "source": [
        "del a, b\n",
        "%who  # Print all interactive variables"
      ],
      "execution_count": null,
      "outputs": []
    },
    {
      "cell_type": "code",
      "metadata": {
        "id": "fRhAU10Suu6i"
      },
      "source": [
        "npzfiles = np.load(\"test.npz\")\n",
        "npzfiles.files"
      ],
      "execution_count": null,
      "outputs": []
    },
    {
      "cell_type": "code",
      "metadata": {
        "id": "lZYFSOJSuwpZ"
      },
      "source": [
        "npzfiles['arr_0']"
      ],
      "execution_count": null,
      "outputs": []
    },
    {
      "cell_type": "code",
      "metadata": {
        "id": "kVP8uF5Ruz6O"
      },
      "source": [
        "from google.colab import files\n",
        "uploaded = files.upload()\n",
        "data = np.loadtxt(\"regression.csv\", delimiter=\",\", skiprows=1, dtype={'names':(\"X\", \"Y\"), 'formats':('f', 'f')})\n",
        "data"
      ],
      "execution_count": null,
      "outputs": []
    },
    {
      "cell_type": "code",
      "metadata": {
        "id": "lc5Y71p-u3y5"
      },
      "source": [
        "np.savetxt(\"regression_saved.csv\", data, delimiter=\",\")\n",
        "!ls -al regression_saved.csv"
      ],
      "execution_count": null,
      "outputs": []
    },
    {
      "cell_type": "code",
      "metadata": {
        "colab": {
          "base_uri": "https://localhost:8080/"
        },
        "id": "lUCX_i1Mxzt3",
        "outputId": "f3dc150b-1245-43d3-f8e6-90a04e0e4627"
      },
      "source": [
        "arr = np.random.random(10) #0~10 사이 random\n",
        "arr"
      ],
      "execution_count": 17,
      "outputs": [
        {
          "output_type": "execute_result",
          "data": {
            "text/plain": [
              "array([1.03040481e-01, 7.73714052e-01, 7.83157807e-01, 1.08989496e-05,\n",
              "       3.13260540e-02, 6.85991914e-01, 8.24093819e-02, 9.50367319e-01,\n",
              "       5.53555005e-01, 1.62909715e-01])"
            ]
          },
          "metadata": {
            "tags": []
          },
          "execution_count": 17
        }
      ]
    },
    {
      "cell_type": "code",
      "metadata": {
        "colab": {
          "base_uri": "https://localhost:8080/"
        },
        "id": "hiteyVTdx6bV",
        "outputId": "6b70e67f-2d83-4138-a65b-6d1293f236ff"
      },
      "source": [
        "arr = np.random.random([5,2,3]) #3차원\n",
        "arr"
      ],
      "execution_count": 19,
      "outputs": [
        {
          "output_type": "execute_result",
          "data": {
            "text/plain": [
              "array([[[0.67296598, 0.71722363, 0.53989099],\n",
              "        [0.25869126, 0.81400399, 0.8565164 ]],\n",
              "\n",
              "       [[0.33220985, 0.43932334, 0.56682365],\n",
              "        [0.83010277, 0.61559028, 0.18664292]],\n",
              "\n",
              "       [[0.27898356, 0.01530919, 0.00993416],\n",
              "        [0.30144219, 0.34345869, 0.93826511]],\n",
              "\n",
              "       [[0.83921943, 0.02839699, 0.88582141],\n",
              "        [0.57978404, 0.5261452 , 0.52227525]],\n",
              "\n",
              "       [[0.69672408, 0.24911727, 0.50217193],\n",
              "        [0.84570443, 0.41313428, 0.93628138]]])"
            ]
          },
          "metadata": {
            "tags": []
          },
          "execution_count": 19
        }
      ]
    },
    {
      "cell_type": "code",
      "metadata": {
        "colab": {
          "base_uri": "https://localhost:8080/"
        },
        "id": "p0m24nUtyNAt",
        "outputId": "391cd713-9223-44a6-e026-61af8595ae44"
      },
      "source": [
        "print(type(arr))\n",
        "print(len(arr)) #list의 관점 #제일 큰 대괄호\n",
        "print(arr.shape)\n",
        "print(arr.ndim) #dimension\n",
        "print(arr.size) #element 개수\n",
        "print(arr.dtype) #float64 vs float"
      ],
      "execution_count": 24,
      "outputs": [
        {
          "output_type": "stream",
          "text": [
            "<class 'numpy.ndarray'>\n",
            "5\n",
            "(5, 2, 3)\n",
            "3\n",
            "30\n",
            "float64\n"
          ],
          "name": "stdout"
        }
      ]
    },
    {
      "cell_type": "code",
      "metadata": {
        "colab": {
          "base_uri": "https://localhost:8080/"
        },
        "id": "JSptRS0bymzl",
        "outputId": "e140f241-9e38-40cd-bc04-35bebd64aa02"
      },
      "source": [
        "a = 1\n",
        "print(type(a))\n",
        "str = 'str'\n",
        "print(type(str))\n",
        "#다 class"
      ],
      "execution_count": 21,
      "outputs": [
        {
          "output_type": "stream",
          "text": [
            "<class 'int'>\n",
            "<class 'str'>\n"
          ],
          "name": "stdout"
        }
      ]
    },
    {
      "cell_type": "code",
      "metadata": {
        "colab": {
          "base_uri": "https://localhost:8080/"
        },
        "id": "vuwpNDJbzqcJ",
        "outputId": "4d089991-27a7-4028-ab0d-56283a9bd2d4"
      },
      "source": [
        "a = np.arange(1, 5)\n",
        "b = np.arange(9, 5, -1)\n",
        "c = np.arange(1, 5, -1)\n",
        "b"
      ],
      "execution_count": 27,
      "outputs": [
        {
          "output_type": "execute_result",
          "data": {
            "text/plain": [
              "array([9, 8, 7, 6])"
            ]
          },
          "metadata": {
            "tags": []
          },
          "execution_count": 27
        }
      ]
    },
    {
      "cell_type": "code",
      "metadata": {
        "colab": {
          "base_uri": "https://localhost:8080/"
        },
        "id": "6HQaMpoiz-Xd",
        "outputId": "93a8b714-0aab-4dd2-e715-b34b040af55b"
      },
      "source": [
        "print(a - b) #행렬 아니라 계산가능\n",
        "print(a * b)"
      ],
      "execution_count": 29,
      "outputs": [
        {
          "output_type": "stream",
          "text": [
            "[-8 -6 -4 -2]\n",
            "[ 9 16 21 24]\n"
          ],
          "name": "stdout"
        }
      ]
    },
    {
      "cell_type": "code",
      "metadata": {
        "id": "MrUWBoqX0yMd"
      },
      "source": [
        "a = np.matrix(a) #ㅈ지진짅진자 ㅎ해행ㄹ려렬\n",
        "b = np.matrix(b)"
      ],
      "execution_count": null,
      "outputs": []
    },
    {
      "cell_type": "code",
      "metadata": {
        "id": "3geE7d6f1ggz"
      },
      "source": [
        "a * b.T #b transpose #1x4 -> 4x1"
      ],
      "execution_count": null,
      "outputs": []
    },
    {
      "cell_type": "code",
      "metadata": {
        "id": "etH0l_Hl1ucn"
      },
      "source": [
        ""
      ],
      "execution_count": null,
      "outputs": []
    }
  ]
}