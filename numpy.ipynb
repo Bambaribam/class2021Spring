{
  "nbformat": 4,
  "nbformat_minor": 0,
  "metadata": {
    "colab": {
      "name": "Untitled7.ipynb",
      "provenance": [],
      "authorship_tag": "ABX9TyND98xT58Lp74+/fZ+6AACY",
      "include_colab_link": true
    },
    "kernelspec": {
      "name": "python3",
      "display_name": "Python 3"
    },
    "language_info": {
      "name": "python"
    }
  },
  "cells": [
    {
      "cell_type": "markdown",
      "metadata": {
        "id": "view-in-github",
        "colab_type": "text"
      },
      "source": [
        "<a href=\"https://colab.research.google.com/github/Bambaribam/class2021Spring/blob/main/numpy.ipynb\" target=\"_parent\"><img src=\"https://colab.research.google.com/assets/colab-badge.svg\" alt=\"Open In Colab\"/></a>"
      ]
    },
    {
      "cell_type": "code",
      "metadata": {
        "id": "XjZGdS69nWWY"
      },
      "source": [
        "import numpy as np\n",
        "import matplotlib.pyplot as plt"
      ],
      "execution_count": 1,
      "outputs": []
    },
    {
      "cell_type": "code",
      "metadata": {
        "colab": {
          "base_uri": "https://localhost:8080/"
        },
        "id": "CRo3uck0ndCP",
        "outputId": "513211de-41e9-4aec-83d7-bfcc930ae1ba"
      },
      "source": [
        "np.empty([2,3], dtype='int') #[2,3]의 행렬 #datatypeㅇ이 int"
      ],
      "execution_count": 2,
      "outputs": [
        {
          "output_type": "execute_result",
          "data": {
            "text/plain": [
              "array([[94045685260480,              0,              0],\n",
              "       [             0,              0,              0]])"
            ]
          },
          "metadata": {
            "tags": []
          },
          "execution_count": 2
        }
      ]
    },
    {
      "cell_type": "code",
      "metadata": {
        "colab": {
          "base_uri": "https://localhost:8080/"
        },
        "id": "DFN7vXglnffe",
        "outputId": "d7dbe510-868c-483c-b967-b5f95721208c"
      },
      "source": [
        "np.zeros([2,3]) #행렬 만들기 #계산 훨씬 편함"
      ],
      "execution_count": 5,
      "outputs": [
        {
          "output_type": "execute_result",
          "data": {
            "text/plain": [
              "array([[0., 0., 0.],\n",
              "       [0., 0., 0.]])"
            ]
          },
          "metadata": {
            "tags": []
          },
          "execution_count": 5
        }
      ]
    },
    {
      "cell_type": "markdown",
      "metadata": {
        "id": "ath6VIP7nggB"
      },
      "source": [
        "#numpy,sin() ㅎ호혹ㅇ으은 #np, sin()\n",
        "ㄱ그글그래랫래서 npㄹ로 ㅈ저정ㅇ으의\n",
        "np, empty"
      ]
    },
    {
      "cell_type": "code",
      "metadata": {
        "colab": {
          "base_uri": "https://localhost:8080/"
        },
        "id": "6lfAP25SoXcP",
        "outputId": "ba6ed293-7588-4855-cd81-89e570a18109"
      },
      "source": [
        "np.arange(0,10,2, dtype='float64') #0~9 increment 2 #float-> ."
      ],
      "execution_count": 6,
      "outputs": [
        {
          "output_type": "execute_result",
          "data": {
            "text/plain": [
              "array([0., 2., 4., 6., 8.])"
            ]
          },
          "metadata": {
            "tags": []
          },
          "execution_count": 6
        }
      ]
    },
    {
      "cell_type": "code",
      "metadata": {
        "colab": {
          "base_uri": "https://localhost:8080/"
        },
        "id": "OV_vugToob3H",
        "outputId": "d6188fe1-5368-41b8-963b-6cb05936325c"
      },
      "source": [
        "np.linspace(0,10,6, dtype=float) #important"
      ],
      "execution_count": 7,
      "outputs": [
        {
          "output_type": "execute_result",
          "data": {
            "text/plain": [
              "array([ 0.,  2.,  4.,  6.,  8., 10.])"
            ]
          },
          "metadata": {
            "tags": []
          },
          "execution_count": 7
        }
      ]
    },
    {
      "cell_type": "code",
      "metadata": {
        "colab": {
          "base_uri": "https://localhost:8080/"
        },
        "id": "AXQVcZzyow44",
        "outputId": "758c6094-8158-413d-dc54-d3f60dcacea9"
      },
      "source": [
        "X = np.array([[1,2,3],[4,5,6]])\n",
        "X"
      ],
      "execution_count": 4,
      "outputs": [
        {
          "output_type": "execute_result",
          "data": {
            "text/plain": [
              "array([[1, 2, 3],\n",
              "       [4, 5, 6]])"
            ]
          },
          "metadata": {
            "tags": []
          },
          "execution_count": 4
        }
      ]
    },
    {
      "cell_type": "code",
      "metadata": {
        "colab": {
          "base_uri": "https://localhost:8080/"
        },
        "id": "khif4selpEJx",
        "outputId": "a63e5ba8-a489-4649-ffc8-89e9d4362f05"
      },
      "source": [
        "X.astype(np.float64)"
      ],
      "execution_count": 9,
      "outputs": [
        {
          "output_type": "execute_result",
          "data": {
            "text/plain": [
              "array([[1., 2., 3.],\n",
              "       [4., 5., 6.]])"
            ]
          },
          "metadata": {
            "tags": []
          },
          "execution_count": 9
        }
      ]
    },
    {
      "cell_type": "code",
      "metadata": {
        "colab": {
          "base_uri": "https://localhost:8080/"
        },
        "id": "1CcLYqt4pIsv",
        "outputId": "e77d2cfe-f7d8-4ba1-894b-0968309f48a2"
      },
      "source": [
        "np.zeros_like(X)"
      ],
      "execution_count": 8,
      "outputs": [
        {
          "output_type": "execute_result",
          "data": {
            "text/plain": [
              "array([[0, 0, 0],\n",
              "       [0, 0, 0]])"
            ]
          },
          "metadata": {
            "tags": []
          },
          "execution_count": 8
        }
      ]
    },
    {
      "cell_type": "code",
      "metadata": {
        "colab": {
          "base_uri": "https://localhost:8080/",
          "height": 715
        },
        "id": "bg5EYgJKpKtD",
        "outputId": "55274e3c-c90d-484b-9b17-a0a65025f0a6"
      },
      "source": [
        "data = np.random.normal(0,1, 100)\n",
        "print(data)\n",
        "plt.hist(data, bins=10)\n",
        "plt.show()"
      ],
      "execution_count": 10,
      "outputs": [
        {
          "output_type": "stream",
          "text": [
            "[ 4.48887427e-01 -2.08648708e+00  1.70549909e+00 -6.16157171e-01\n",
            "  1.12194046e+00 -4.37765516e-01 -2.86750876e-01 -3.07369601e-01\n",
            "  1.24496098e-01 -3.36758002e-01  6.21233231e-01  4.85295095e-01\n",
            "  7.16452814e-01  1.11628278e+00  1.78620526e-01  2.29233043e-01\n",
            "  7.00738812e-01 -1.44220311e-01 -1.14768557e-01 -5.99503344e-02\n",
            "  3.91186334e-01 -9.21019130e-01  6.95660387e-01  4.08637971e-01\n",
            " -7.06713827e-01  1.01349645e+00 -9.85654238e-01 -2.98162760e-01\n",
            " -9.08912058e-01 -2.28058176e-01  1.61760025e+00 -6.21459488e-02\n",
            "  7.55521432e-01  6.67623772e-01 -4.08957101e-01 -2.79143364e-01\n",
            "  6.39415497e-01  2.30889463e-01 -1.51150182e+00 -8.46927097e-01\n",
            " -7.47909745e-01  1.12902350e-02  1.00253439e+00  2.14822670e-01\n",
            "  1.64156214e+00 -2.43390944e+00  1.09330249e+00  2.04759530e+00\n",
            "  1.26832552e+00  1.47437589e-01  9.76358891e-01  1.13202752e+00\n",
            " -5.78267584e-01 -1.90572176e+00 -1.40986178e+00  3.39634001e-01\n",
            " -3.90450849e-01 -9.89790017e-02 -9.03587792e-01  4.88684712e-03\n",
            " -1.52237223e+00 -1.09859829e+00 -2.48805392e+00 -1.07885717e+00\n",
            "  5.66564134e-01  7.53007412e-01 -1.12240689e+00  1.96104508e+00\n",
            "  1.56422325e+00  2.70622277e-01  5.24729471e-02 -1.01690472e+00\n",
            "  1.48991292e+00  7.07786283e-02  3.23410507e-01  5.23628637e-01\n",
            "  7.45417231e-01 -2.56184330e+00 -6.95382921e-01 -6.39431928e-01\n",
            "  7.87854740e-04  1.49429095e+00  6.95653775e-01 -8.40660636e-01\n",
            " -4.38750521e-01 -1.59249233e+00  4.09345968e-01  1.09597248e+00\n",
            "  9.35172674e-01  1.55895496e+00  9.15217392e-01 -6.31005938e-01\n",
            " -3.79137074e-01  4.53227701e-01  6.85009724e-01 -8.81344519e-01\n",
            "  1.39722748e+00  8.81361613e-01  8.08915054e-01 -3.20995428e-01]\n"
          ],
          "name": "stdout"
        },
        {
          "output_type": "display_data",
          "data": {
            "image/png": "[encoded data removed]",
            "text/plain": [
              "<Figure size 432x288 with 1 Axes>"
            ]
          },
          "metadata": {
            "tags": [],
            "needs_background": "light"
          }
        }
      ]
    },
    {
      "cell_type": "code",
      "metadata": {
        "id": "Dhi2GKkppK6E"
      },
      "source": [
        "X = np.ones([2, 3, 4])\n",
        "X"
      ],
      "execution_count": null,
      "outputs": []
    },
    {
      "cell_type": "code",
      "metadata": {
        "id": "swR30pCXp7CO"
      },
      "source": [
        "Y = X.reshape(-1, 3, 2)\n",
        "Y"
      ],
      "execution_count": null,
      "outputs": []
    },
    {
      "cell_type": "code",
      "metadata": {
        "id": "s6DbSwaVqAFT"
      },
      "source": [
        "np.allclose(X.reshape(-1, 3, 2), Y)"
      ],
      "execution_count": null,
      "outputs": []
    },
    {
      "cell_type": "code",
      "metadata": {
        "id": "lVLYeIMoqDnb"
      },
      "source": [
        "assert np.allclose(X.reshape(-1, 3, 2), Y)"
      ],
      "execution_count": null,
      "outputs": []
    },
    {
      "cell_type": "code",
      "metadata": {
        "id": "pwu8bXxXqHpf"
      },
      "source": [
        "a = np.random.randint(0, 10, [2, 3])\n",
        "b = np.random.random([2, 3])\n",
        "np.savez(\"test\", a, b)"
      ],
      "execution_count": null,
      "outputs": []
    }
  ]
}