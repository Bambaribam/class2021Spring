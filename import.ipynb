{
  "nbformat": 4,
  "nbformat_minor": 0,
  "metadata": {
    "colab": {
      "name": "Untitled5.ipynb",
      "provenance": [],
      "authorship_tag": "ABX9TyNNxrO4bM/0bC167pB6n3At",
      "include_colab_link": true
    },
    "kernelspec": {
      "name": "python3",
      "display_name": "Python 3"
    },
    "language_info": {
      "name": "python"
    }
  },
  "cells": [
    {
      "cell_type": "markdown",
      "metadata": {
        "id": "view-in-github",
        "colab_type": "text"
      },
      "source": [
        "<a href=\"https://colab.research.google.com/github/Bambaribam/class2021Spring/blob/main/import.ipynb\" target=\"_parent\"><img src=\"https://colab.research.google.com/assets/colab-badge.svg\" alt=\"Open In Colab\"/></a>"
      ]
    },
    {
      "cell_type": "code",
      "metadata": {
        "id": "8wMuLhnVgJu8"
      },
      "source": [
        "import numpy as np\n",
        "n = np.random.randn(100) #matplotlib>pyplot.py>func(hist), class\n",
        "n"
      ],
      "execution_count": 2,
      "outputs": []
    },
    {
      "cell_type": "code",
      "metadata": {
        "id": "eDoMqMuBgcIT"
      },
      "source": [
        "#import matplotlib\n",
        "#import matplotlib.pyplot\n",
        "#eg) matplotlib.pyolot.hist(n)\n",
        "#from matplotlib import pyplot\n",
        "#eg) pyoplot.hist(n)\n",
        "#from matplotlib.pyplot import hist\n",
        "#review"
      ],
      "execution_count": 6,
      "outputs": []
    }
  ]
}