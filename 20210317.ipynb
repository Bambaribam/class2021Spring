{
  "nbformat": 4,
  "nbformat_minor": 0,
  "metadata": {
    "colab": {
      "name": "Untitled1.ipynb",
      "provenance": [],
      "authorship_tag": "ABX9TyMKAW6zbHp3Qeew56zZRJfc",
      "include_colab_link": true
    },
    "kernelspec": {
      "name": "python3",
      "display_name": "Python 3"
    }
  },
  "cells": [
    {
      "cell_type": "markdown",
      "metadata": {
        "id": "view-in-github",
        "colab_type": "text"
      },
      "source": [
        "<a href=\"https://colab.research.google.com/github/Bambaribam/class2021Spring/blob/main/20210317.ipynb\" target=\"_parent\"><img src=\"https://colab.research.google.com/assets/colab-badge.svg\" alt=\"Open In Colab\"/></a>"
      ]
    },
    {
      "cell_type": "code",
      "metadata": {
        "colab": {
          "base_uri": "https://localhost:8080/"
        },
        "id": "rHor--_XuWBh",
        "outputId": "5823fafb-e3d6-4769-adb0-9f41951d48a3"
      },
      "source": [
        "a = [2, 3, 5, 7, 9]\r\n",
        "b = [i for i in a if i%2==1]\r\n",
        "b"
      ],
      "execution_count": 4,
      "outputs": [
        {
          "output_type": "execute_result",
          "data": {
            "text/plain": [
              "[3, 5, 7, 9]"
            ]
          },
          "metadata": {
            "tags": []
          },
          "execution_count": 4
        }
      ]
    },
    {
      "cell_type": "code",
      "metadata": {
        "colab": {
          "base_uri": "https://localhost:8080/"
        },
        "id": "nqvAoYd3u4XP",
        "outputId": "9175de9b-acb7-4ebf-e131-fc79c3bc98e2"
      },
      "source": [
        "a = ['dog', 'cat', 'hamster', 'rabbit', 'bird']\r\n",
        "b = [1, 2, 3, 4, 5]\r\n",
        "for i in a:\r\n",
        "  for j in b:\r\n",
        "    print(i*j)"
      ],
      "execution_count": 8,
      "outputs": [
        {
          "output_type": "stream",
          "text": [
            "dog\n",
            "dogdog\n",
            "dogdogdog\n",
            "dogdogdogdog\n",
            "dogdogdogdogdog\n",
            "cat\n",
            "catcat\n",
            "catcatcat\n",
            "catcatcatcat\n",
            "catcatcatcatcat\n",
            "hamster\n",
            "hamsterhamster\n",
            "hamsterhamsterhamster\n",
            "hamsterhamsterhamsterhamster\n",
            "hamsterhamsterhamsterhamsterhamster\n",
            "rabbit\n",
            "rabbitrabbit\n",
            "rabbitrabbitrabbit\n",
            "rabbitrabbitrabbitrabbit\n",
            "rabbitrabbitrabbitrabbitrabbit\n",
            "bird\n",
            "birdbird\n",
            "birdbirdbird\n",
            "birdbirdbirdbird\n",
            "birdbirdbirdbirdbird\n"
          ],
          "name": "stdout"
        }
      ]
    }
  ]
}