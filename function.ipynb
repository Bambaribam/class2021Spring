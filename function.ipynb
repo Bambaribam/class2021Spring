{
  "nbformat": 4,
  "nbformat_minor": 0,
  "metadata": {
    "colab": {
      "name": "Untitled2.ipynb",
      "provenance": [],
      "authorship_tag": "ABX9TyMPq8EyZFf8h5z5bFXDTaWJ",
      "include_colab_link": true
    },
    "kernelspec": {
      "name": "python3",
      "display_name": "Python 3"
    },
    "language_info": {
      "name": "python"
    }
  },
  "cells": [
    {
      "cell_type": "markdown",
      "metadata": {
        "id": "view-in-github",
        "colab_type": "text"
      },
      "source": [
        "<a href=\"https://colab.research.google.com/github/Bambaribam/class2021Spring/blob/main/function.ipynb\" target=\"_parent\"><img src=\"https://colab.research.google.com/assets/colab-badge.svg\" alt=\"Open In Colab\"/></a>"
      ]
    },
    {
      "cell_type": "code",
      "metadata": {
        "id": "AV7xk_ArUvcD"
      },
      "source": [
        "def add(a,b):  return a+b \n",
        "def subtract(a,b):  return a-b \n",
        "def multiply(a,b):  return a*b \n",
        "def divide(a,b):  return a/b"
      ],
      "execution_count": 2,
      "outputs": []
    },
    {
      "cell_type": "code",
      "metadata": {
        "colab": {
          "base_uri": "https://localhost:8080/"
        },
        "id": "OXS_KqAvU7NJ",
        "outputId": "ed83f64d-3ce2-4484-8838-9ebdd8c06444"
      },
      "source": [
        "def func1(x, a, b): \n",
        "  y=a*x+b\n",
        "  return y\n",
        "func1(5,1,-2)"
      ],
      "execution_count": 6,
      "outputs": [
        {
          "output_type": "execute_result",
          "data": {
            "text/plain": [
              "3"
            ]
          },
          "metadata": {
            "tags": []
          },
          "execution_count": 6
        }
      ]
    },
    {
      "cell_type": "markdown",
      "metadata": {
        "id": "NVWjtX8rVy3g"
      },
      "source": [
        "ㅂ바반ㅂ보복ㅈ저적ㅇ으을으로"
      ]
    }
  ]
}