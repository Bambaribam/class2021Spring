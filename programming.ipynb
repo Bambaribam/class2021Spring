{
  "nbformat": 4,
  "nbformat_minor": 0,
  "metadata": {
    "colab": {
      "name": "Welcome To Colaboratory",
      "provenance": [],
      "collapsed_sections": [],
      "include_colab_link": true
    },
    "kernelspec": {
      "display_name": "Python 3",
      "name": "python3"
    }
  },
  "cells": [
    {
      "cell_type": "markdown",
      "metadata": {
        "id": "view-in-github",
        "colab_type": "text"
      },
      "source": [
        "<a href=\"https://colab.research.google.com/github/Bambaribam/class2021Spring/blob/main/programming.ipynb\" target=\"_parent\"><img src=\"https://colab.research.google.com/assets/colab-badge.svg\" alt=\"Open In Colab\"/></a>"
      ]
    },
    {
      "cell_type": "code",
      "metadata": {
        "id": "aaGtzdNgrmU0"
      },
      "source": [
        ""
      ],
      "execution_count": null,
      "outputs": []
    },
    {
      "cell_type": "markdown",
      "metadata": {
        "id": "5WK2y_Z5rmz5"
      },
      "source": [
        "### 프로그래밍에서 변수에 내용을 할당할 때 '='를 사용\n",
        "### a = 1에서 a는 변수(variable)이고, 1은 내용이다\n",
        "### a에 1을 assign한 것\n",
        "### 언어에서의 문법은 프로그래밍 언어에서 제어문과 같음\n",
        "### 문법=제어문\n",
        "1. 반복: for\n",
        "2. 조건: if\n",
        "변수, 제어문, 함수\n",
        "함수란 어떤 input에 따라 output이 나오는 것\n",
        "y=f(x)함수에서 input은 x, output은 f(x)\n",
        "예를들어, y=ax+b 함수\n",
        "일상에서 함수의 예시로는 인간의 몸이나 컴퓨터 오디오 장치 등을 볼 수 있다"
      ]
    }
  ]
}