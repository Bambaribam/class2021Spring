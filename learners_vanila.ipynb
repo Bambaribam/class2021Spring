{
  "nbformat": 4,
  "nbformat_minor": 0,
  "metadata": {
    "colab": {
      "name": "learners_vanila.ipynb",
      "provenance": [],
      "collapsed_sections": [],
      "include_colab_link": true
    },
    "language_info": {
      "codemirror_mode": {
        "name": "ipython",
        "version": 3
      },
      "file_extension": ".py",
      "mimetype": "text/x-python",
      "name": "python",
      "nbconvert_exporter": "python",
      "pygments_lexer": "ipython3",
      "version": "3.7.3"
    },
    "kernelspec": {
      "name": "python3",
      "display_name": "Python 3"
    },
    "accelerator": "GPU"
  },
  "cells": [
    {
      "cell_type": "markdown",
      "metadata": {
        "id": "view-in-github",
        "colab_type": "text"
      },
      "source": [
        "<a href=\"https://colab.research.google.com/github/Bambaribam/class2021Spring/blob/main/learners_vanila.ipynb\" target=\"_parent\"><img src=\"https://colab.research.google.com/assets/colab-badge.svg\" alt=\"Open In Colab\"/></a>"
      ]
    },
    {
      "cell_type": "markdown",
      "metadata": {
        "id": "jfCpK7n-3Q2y"
      },
      "source": [
        "성능비교를 하기 위한 바닐라 모델(가장 기본적인 모델)\r\n",
        "영어 텍스트가 영어 모국어 화자의 글인지, 영어를 공부하는 한국어 화자가 쓴 텍스트인지 구분하는 코드"
      ]
    },
    {
      "cell_type": "code",
      "metadata": {
        "id": "0omsq1sxUg20"
      },
      "source": [
        "def read_data(filename):\n",
        "    with open(filename, 'r') as f:\n",
        "        data = [line.split('\\t') for line in f.read().splitlines()]        \n",
        "    return data\n",
        "\n",
        "train_data = read_data('training_small.txt')\n",
        "test_data = read_data('test_small.txt')"
      ],
      "execution_count": 3,
      "outputs": []
    },
    {
      "cell_type": "code",
      "metadata": {
        "id": "fYI9xLnMUg27",
        "colab": {
          "base_uri": "https://localhost:8080/"
        },
        "outputId": "49538253-afb8-468a-9033-9b2106565e58"
      },
      "source": [
        "print(len(train_data))\n",
        "print(len(train_data[0]))\n",
        "print(len(test_data))\n",
        "print(len(test_data[0]))"
      ],
      "execution_count": 4,
      "outputs": [
        {
          "output_type": "stream",
          "text": [
            "10000\n",
            "3\n",
            "1000\n",
            "3\n"
          ],
          "name": "stdout"
        }
      ]
    },
    {
      "cell_type": "code",
      "metadata": {
        "id": "V2BV3O1lUg3E",
        "colab": {
          "base_uri": "https://localhost:8080/"
        },
        "outputId": "f8a09a72-e6a4-4242-aff4-c2b3183ea9bf"
      },
      "source": [
        "import nltk\n",
        "nltk.download('punkt')\n",
        "nltk.download('averaged_perceptron_tagger')\n",
        "text1 = nltk.word_tokenize(\"It is a pleasant day today.\")\n",
        "nltk.pos_tag(text1)"
      ],
      "execution_count": 5,
      "outputs": [
        {
          "output_type": "stream",
          "text": [
            "[nltk_data] Downloading package punkt to /root/nltk_data...\n",
            "[nltk_data]   Unzipping tokenizers/punkt.zip.\n",
            "[nltk_data] Downloading package averaged_perceptron_tagger to\n",
            "[nltk_data]     /root/nltk_data...\n",
            "[nltk_data]   Unzipping taggers/averaged_perceptron_tagger.zip.\n"
          ],
          "name": "stdout"
        },
        {
          "output_type": "execute_result",
          "data": {
            "text/plain": [
              "[('It', 'PRP'),\n",
              " ('is', 'VBZ'),\n",
              " ('a', 'DT'),\n",
              " ('pleasant', 'JJ'),\n",
              " ('day', 'NN'),\n",
              " ('today', 'NN'),\n",
              " ('.', '.')]"
            ]
          },
          "metadata": {
            "tags": []
          },
          "execution_count": 5
        }
      ]
    },
    {
      "cell_type": "code",
      "metadata": {
        "id": "o3dJ3a8PUg3J",
        "colab": {
          "base_uri": "https://localhost:8080/"
        },
        "outputId": "bef173be-8a29-4873-a311-7b480d918039"
      },
      "source": [
        "import json\n",
        "import os\n",
        "from pprint import pprint\n",
        "\n",
        "def tokenize(doc):\n",
        "    return ['/'.join(t) for t in nltk.pos_tag(nltk.word_tokenize(doc))]\n",
        "\n",
        "if os.path.isfile('train_small_docs.json'):\n",
        "    with open('train_small_docs.json') as f:\n",
        "        train_docs = json.load(f)\n",
        "    with open('test_small_docs.json') as f:\n",
        "        test_docs = json.load(f)\n",
        "else:\n",
        "    train_docs = [(tokenize(row[1]), row[2]) for row in train_data]\n",
        "    test_docs = [(tokenize(row[1]), row[2]) for row in test_data]\n",
        "    # JSON 파일로 저장\n",
        "    with open('train_small_docs.json', 'w', encoding=\"utf-8\") as make_file:\n",
        "        json.dump(train_docs, make_file, ensure_ascii=False, indent=\"\\t\")\n",
        "    with open('test_small_docs.json', 'w', encoding=\"utf-8\") as make_file:\n",
        "        json.dump(test_docs, make_file, ensure_ascii=False, indent=\"\\t\")\n",
        "\n",
        "pprint(train_docs[0])"
      ],
      "execution_count": 6,
      "outputs": [
        {
          "output_type": "stream",
          "text": [
            "(['15/CD',\n",
            "  'Make/NNP',\n",
            "  'space/NN',\n",
            "  'Devote/NNP',\n",
            "  'a/DT',\n",
            "  'room/NN',\n",
            "  ',/,',\n",
            "  'or/CC',\n",
            "  'part/NN',\n",
            "  'of/IN',\n",
            "  'a/DT',\n",
            "  'room/NN',\n",
            "  ',/,',\n",
            "  'to/TO',\n",
            "  'movement/NN',\n",
            "  './.'],\n",
            " '1')\n"
          ],
          "name": "stdout"
        }
      ]
    },
    {
      "cell_type": "code",
      "metadata": {
        "id": "A9d7alJLUg3O",
        "colab": {
          "base_uri": "https://localhost:8080/"
        },
        "outputId": "1f70d64a-5090-4624-b689-478699f7be3c"
      },
      "source": [
        "tokens = [t for d in train_docs for t in d[0]]\n",
        "print(len(tokens)) #전체 유닛의 개수(<->type)"
      ],
      "execution_count": 7,
      "outputs": [
        {
          "output_type": "stream",
          "text": [
            "157715\n"
          ],
          "name": "stdout"
        }
      ]
    },
    {
      "cell_type": "code",
      "metadata": {
        "id": "XU1feq9YUg3T",
        "colab": {
          "base_uri": "https://localhost:8080/"
        },
        "outputId": "cac1792e-ab6c-4bd4-e162-15b3694e9e82"
      },
      "source": [
        "text = nltk.Text(tokens, name='NMSC')\n",
        "print(len(text.tokens))\n",
        "print(len(set(text.tokens)))            \n",
        "pprint(text.vocab().most_common(10))"
      ],
      "execution_count": 10,
      "outputs": [
        {
          "output_type": "stream",
          "text": [
            "157715\n",
            "23122\n",
            "[('./.', 9314),\n",
            " (',/,', 7708),\n",
            " ('the/DT', 5628),\n",
            " ('to/TO', 3347),\n",
            " ('and/CC', 3286),\n",
            " ('of/IN', 3226),\n",
            " ('a/DT', 2557),\n",
            " ('I/PRP', 2436),\n",
            " ('in/IN', 2038),\n",
            " ('is/VBZ', 1994)]\n"
          ],
          "name": "stdout"
        }
      ]
    },
    {
      "cell_type": "code",
      "metadata": {
        "id": "R_iMO8iqUg3h"
      },
      "source": [
        "selected_words = [f[0] for f in text.vocab().most_common(1000)]\n",
        "\n",
        "def term_frequency(doc):\n",
        "    return [doc.count(word) for word in selected_words]\n",
        "\n",
        "train_x = [term_frequency(d) for d, _ in train_docs]\n",
        "test_x = [term_frequency(d) for d, _ in test_docs]\n",
        "train_y = [c for _, c in train_docs]\n",
        "test_y = [c for _, c in test_docs]"
      ],
      "execution_count": 12,
      "outputs": []
    },
    {
      "cell_type": "code",
      "metadata": {
        "id": "4WzOEmptUg3m"
      },
      "source": [
        "import numpy as np\n",
        "\n",
        "x_train = np.asarray(train_x).astype('float16')\n",
        "x_test = np.asarray(test_x).astype('float16')\n",
        "\n",
        "y_train = np.asarray(train_y).astype('float16')\n",
        "y_test = np.asarray(test_y).astype('float16')"
      ],
      "execution_count": 13,
      "outputs": []
    },
    {
      "cell_type": "code",
      "metadata": {
        "id": "xeS3RiplUg3v",
        "colab": {
          "base_uri": "https://localhost:8080/",
          "height": 1000
        },
        "outputId": "5f08a9e0-ba3b-4302-9e89-aee9af91163e"
      },
      "source": [
        "from tensorflow.keras import models\n",
        "from tensorflow.keras import layers\n",
        "from tensorflow.keras import optimizers\n",
        "from tensorflow.keras import losses\n",
        "from tensorflow.keras import metrics\n",
        "import matplotlib.pyplot as plt\n",
        "\n",
        "model = models.Sequential()\n",
        "model.add(layers.Dense(64, activation='relu', input_shape=(1000,)))\n",
        "model.add(layers.Dense(64, activation='relu'))\n",
        "model.add(layers.Dense(1, activation='sigmoid'))\n",
        "\n",
        "model.compile(optimizer=optimizers.RMSprop(lr=0.001),\n",
        "             loss=losses.binary_crossentropy,\n",
        "             metrics=[metrics.binary_accuracy])\n",
        "\n",
        "hist = model.fit(x_train, y_train, validation_split=0.1, epochs=20, batch_size=512)\n",
        "results = model.evaluate(x_test, y_test)\n",
        "\n",
        "print(hist.history.keys())\n",
        "# summarize history for accuracy\n",
        "plt.plot(hist.history['binary_accuracy'])\n",
        "plt.plot(hist.history['val_binary_accuracy'])\n",
        "plt.title('Accuracy of Model')\n",
        "plt.ylabel('accuracy')\n",
        "plt.xlabel('epoch')\n",
        "plt.legend(['train', 'validate'], loc='upper left')\n",
        "plt.show()\n",
        "# summarize history for loss\n",
        "plt.plot(hist.history['loss'])\n",
        "plt.plot(hist.history['val_loss'])\n",
        "plt.title('Loss of Model')\n",
        "plt.ylabel('loss')\n",
        "plt.xlabel('epoch')\n",
        "plt.legend(['train', 'validate'], loc='upper left')\n",
        "plt.show()"
      ],
      "execution_count": 14,
      "outputs": [
        {
          "output_type": "stream",
          "text": [
            "Epoch 1/20\n",
            "18/18 [==============================] - 3s 22ms/step - loss: 0.6387 - binary_accuracy: 0.7031 - val_loss: 0.4410 - val_binary_accuracy: 0.8530\n",
            "Epoch 2/20\n",
            "18/18 [==============================] - 0s 5ms/step - loss: 0.3937 - binary_accuracy: 0.8676 - val_loss: 0.2978 - val_binary_accuracy: 0.8890\n",
            "Epoch 3/20\n",
            "18/18 [==============================] - 0s 5ms/step - loss: 0.2778 - binary_accuracy: 0.8951 - val_loss: 0.2449 - val_binary_accuracy: 0.9130\n",
            "Epoch 4/20\n",
            "18/18 [==============================] - 0s 5ms/step - loss: 0.2323 - binary_accuracy: 0.9138 - val_loss: 0.2258 - val_binary_accuracy: 0.9120\n",
            "Epoch 5/20\n",
            "18/18 [==============================] - 0s 5ms/step - loss: 0.2039 - binary_accuracy: 0.9216 - val_loss: 0.2327 - val_binary_accuracy: 0.9080\n",
            "Epoch 6/20\n",
            "18/18 [==============================] - 0s 5ms/step - loss: 0.1885 - binary_accuracy: 0.9264 - val_loss: 0.2222 - val_binary_accuracy: 0.9190\n",
            "Epoch 7/20\n",
            "18/18 [==============================] - 0s 5ms/step - loss: 0.1735 - binary_accuracy: 0.9345 - val_loss: 0.2339 - val_binary_accuracy: 0.9170\n",
            "Epoch 8/20\n",
            "18/18 [==============================] - 0s 5ms/step - loss: 0.1669 - binary_accuracy: 0.9353 - val_loss: 0.2263 - val_binary_accuracy: 0.9160\n",
            "Epoch 9/20\n",
            "18/18 [==============================] - 0s 5ms/step - loss: 0.1460 - binary_accuracy: 0.9488 - val_loss: 0.2332 - val_binary_accuracy: 0.9200\n",
            "Epoch 10/20\n",
            "18/18 [==============================] - 0s 6ms/step - loss: 0.1414 - binary_accuracy: 0.9466 - val_loss: 0.2368 - val_binary_accuracy: 0.9200\n",
            "Epoch 11/20\n",
            "18/18 [==============================] - 0s 5ms/step - loss: 0.1314 - binary_accuracy: 0.9534 - val_loss: 0.2449 - val_binary_accuracy: 0.9140\n",
            "Epoch 12/20\n",
            "18/18 [==============================] - 0s 5ms/step - loss: 0.1274 - binary_accuracy: 0.9533 - val_loss: 0.2523 - val_binary_accuracy: 0.9160\n",
            "Epoch 13/20\n",
            "18/18 [==============================] - 0s 5ms/step - loss: 0.1177 - binary_accuracy: 0.9556 - val_loss: 0.2630 - val_binary_accuracy: 0.9170\n",
            "Epoch 14/20\n",
            "18/18 [==============================] - 0s 5ms/step - loss: 0.1032 - binary_accuracy: 0.9639 - val_loss: 0.2701 - val_binary_accuracy: 0.9150\n",
            "Epoch 15/20\n",
            "18/18 [==============================] - 0s 5ms/step - loss: 0.1014 - binary_accuracy: 0.9645 - val_loss: 0.2799 - val_binary_accuracy: 0.9100\n",
            "Epoch 16/20\n",
            "18/18 [==============================] - 0s 5ms/step - loss: 0.0884 - binary_accuracy: 0.9709 - val_loss: 0.2941 - val_binary_accuracy: 0.8990\n",
            "Epoch 17/20\n",
            "18/18 [==============================] - 0s 6ms/step - loss: 0.0875 - binary_accuracy: 0.9689 - val_loss: 0.3030 - val_binary_accuracy: 0.9010\n",
            "Epoch 18/20\n",
            "18/18 [==============================] - 0s 5ms/step - loss: 0.0753 - binary_accuracy: 0.9743 - val_loss: 0.3182 - val_binary_accuracy: 0.8980\n",
            "Epoch 19/20\n",
            "18/18 [==============================] - 0s 5ms/step - loss: 0.0744 - binary_accuracy: 0.9758 - val_loss: 0.3224 - val_binary_accuracy: 0.9060\n",
            "Epoch 20/20\n",
            "18/18 [==============================] - 0s 5ms/step - loss: 0.0644 - binary_accuracy: 0.9809 - val_loss: 0.3330 - val_binary_accuracy: 0.9000\n",
            "32/32 [==============================] - 0s 1ms/step - loss: 0.3735 - binary_accuracy: 0.8800\n",
            "dict_keys(['loss', 'binary_accuracy', 'val_loss', 'val_binary_accuracy'])\n"
          ],
          "name": "stdout"
        },
        {
          "output_type": "display_data",
          "data": {
            "image/png": "[encoded data removed]",
            "text/plain": [
              "<Figure size 432x288 with 1 Axes>"
            ]
          },
          "metadata": {
            "tags": [],
            "needs_background": "light"
          }
        },
        {
          "output_type": "display_data",
          "data": {
            "image/png": "[encoded data removed]",
            "text/plain": [
              "<Figure size 432x288 with 1 Axes>"
            ]
          },
          "metadata": {
            "tags": [],
            "needs_background": "light"
          }
        }
      ]
    },
    {
      "cell_type": "code",
      "metadata": {
        "id": "4Bz9gCSaUg31",
        "colab": {
          "base_uri": "https://localhost:8080/"
        },
        "outputId": "60e18f0d-5b44-4d12-aea8-8f04b4913deb"
      },
      "source": [
        "results #무려 88퍼센트의 정확도"
      ],
      "execution_count": 15,
      "outputs": [
        {
          "output_type": "execute_result",
          "data": {
            "text/plain": [
              "[0.3734699785709381, 0.8799999952316284]"
            ]
          },
          "metadata": {
            "tags": []
          },
          "execution_count": 15
        }
      ]
    },
    {
      "cell_type": "code",
      "metadata": {
        "id": "qJK7iui1Ug35"
      },
      "source": [
        "def predict(review):\n",
        "    token = tokenize(review)\n",
        "    tf = term_frequency(token)\n",
        "    data = np.expand_dims(np.asarray(tf).astype('float32'), axis=0)\n",
        "    score = float(model.predict(data))\n",
        "    if(score > 0.5):\n",
        "        print(\"[{}]는 {:.2f}% 확률로 모국어 화자의 글이지 않을까 추측해봅니다.\\n\".format(review, score * 100))\n",
        "    else:\n",
        "        print(\"[{}]는 {:.2f}% 확률로 학습자의 글이지 않을까 추측해봅니다.\\n\".format(review, (1 - score) * 100))"
      ],
      "execution_count": 18,
      "outputs": []
    },
    {
      "cell_type": "code",
      "metadata": {
        "id": "457IGZHpUg3-",
        "colab": {
          "base_uri": "https://localhost:8080/"
        },
        "outputId": "d8037748-c591-429a-bf0f-0ff30181374a"
      },
      "source": [
        "predict(\"Because those drills are not that easily endure.\")\n",
        "predict(\"However I seldom read some books to recreate myself.\")\n",
        "predict(\"Also by citing his own experience, scold me for some attitude on myself.\")"
      ],
      "execution_count": 17,
      "outputs": [
        {
          "output_type": "stream",
          "text": [
            "[Because those drills are not that easily endure.]는 99.76% 확률로 학습자의 글이지 않을까 추측해봅니다.\n",
            "\n",
            "[However I seldom read some books to recreate myself.]는 99.85% 확률로 학습자의 글이지 않을까 추측해봅니다.\n",
            "\n",
            "[Also by citing his own experience, scold me for some attitude on myself.]는 97.59% 확률로 학습자의 글이지 않을까 추측해봅니다.\n",
            "\n"
          ],
          "name": "stdout"
        }
      ]
    }
  ]
}