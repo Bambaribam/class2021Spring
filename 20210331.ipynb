{
  "nbformat": 4,
  "nbformat_minor": 0,
  "metadata": {
    "colab": {
      "name": "Untitled8.ipynb",
      "provenance": [],
      "authorship_tag": "ABX9TyOD9C1NJCQcduiMuZiIOz2c",
      "include_colab_link": true
    },
    "kernelspec": {
      "name": "python3",
      "display_name": "Python 3"
    },
    "language_info": {
      "name": "python"
    }
  },
  "cells": [
    {
      "cell_type": "markdown",
      "metadata": {
        "id": "view-in-github",
        "colab_type": "text"
      },
      "source": [
        "<a href=\"https://colab.research.google.com/github/Bambaribam/class2021Spring/blob/main/20210331.ipynb\" target=\"_parent\"><img src=\"https://colab.research.google.com/assets/colab-badge.svg\" alt=\"Open In Colab\"/></a>"
      ]
    },
    {
      "cell_type": "markdown",
      "metadata": {
        "id": "3A4fPr-l5-2U"
      },
      "source": [
        "아  pitch 91 Hz\n",
        "\n",
        "\n",
        "intensity 60 dB\n",
        "\n",
        "formant 810 Hz, 1198 Hz\n",
        "\n",
        "duration 0.41 sec"
      ]
    },
    {
      "cell_type": "markdown",
      "metadata": {
        "id": "2XAGvtKB6lna"
      },
      "source": [
        "애 pitch 181.9 Hz\n",
        "\n",
        "\n",
        "intensity 72.17 dB\n",
        "\n",
        "\n",
        "formant 607 Hz, 2378 Hz\n",
        "\n",
        "\n",
        "duration 0.46 sec"
      ]
    }
  ]
}