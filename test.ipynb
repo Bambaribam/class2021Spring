{
  "nbformat": 4,
  "nbformat_minor": 0,
  "metadata": {
    "colab": {
      "name": "test.ipynb",
      "provenance": [],
      "authorship_tag": "ABX9TyNTI2HlvsXtZpOVZ9AgBtqJ",
      "include_colab_link": true
    },
    "kernelspec": {
      "name": "python3",
      "display_name": "Python 3"
    }
  },
  "cells": [
    {
      "cell_type": "markdown",
      "metadata": {
        "id": "view-in-github",
        "colab_type": "text"
      },
      "source": [
        "<a href=\"https://colab.research.google.com/github/Bambaribam/class2021Spring/blob/main/test.ipynb\" target=\"_parent\"><img src=\"https://colab.research.google.com/assets/colab-badge.svg\" alt=\"Open In Colab\"/></a>"
      ]
    },
    {
      "cell_type": "code",
      "metadata": {
        "colab": {
          "base_uri": "https://localhost:8080/"
        },
        "id": "nOj1mRMcT8e3",
        "outputId": "4e04d43f-5f5c-416e-8d7e-1991ba762dba"
      },
      "source": [
        "a = 1\r\n",
        "b = 1\r\n",
        "c = a + b\r\n",
        "c\r\n"
      ],
      "execution_count": null,
      "outputs": [
        {
          "output_type": "execute_result",
          "data": {
            "text/plain": [
              "2"
            ]
          },
          "metadata": {
            "tags": []
          },
          "execution_count": 2
        }
      ]
    },
    {
      "cell_type": "markdown",
      "metadata": {
        "id": "1TIELlAwWOlh"
      },
      "source": [
        "# 파이썬을 어디서 배우나요?\r\n",
        "### Jump to python"
      ]
    },
    {
      "cell_type": "markdown",
      "metadata": {
        "id": "PpVtsocqV-Eb"
      },
      "source": [
        "## *우리는* 파이썬을 배우게 됩니다."
      ]
    },
    {
      "cell_type": "markdown",
      "metadata": {
        "id": "y0C-7CoJULnT"
      },
      "source": [
        "# 오늘 배운것: \r\n",
        "## github 계정 만들기, login 해서 repository 만들기 (이름은 class2021Spring)\r\n",
        "\r\n",
        "\r\n",
        "1. python\r\n",
        "2. markdown\r\n"
      ]
    },
    {
      "cell_type": "code",
      "metadata": {
        "id": "BmKDLddsWd4r"
      },
      "source": [
        ""
      ],
      "execution_count": null,
      "outputs": []
    }
  ]
}